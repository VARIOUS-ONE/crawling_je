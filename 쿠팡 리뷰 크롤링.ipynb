{
 "cells": [
  {
   "cell_type": "code",
   "execution_count": 1,
   "id": "2120ac45",
   "metadata": {},
   "outputs": [],
   "source": [
    "from selenium import webdriver\n",
    "import time\n",
    "from selenium.webdriver.common.by import By\n",
    "from selenium.webdriver.common.keys import Keys\n",
    "import random\n",
    "import pandas as pd"
   ]
  },
  {
   "cell_type": "code",
   "execution_count": 17,
   "id": "d23ab5fc",
   "metadata": {},
   "outputs": [
    {
     "name": "stderr",
     "output_type": "stream",
     "text": [
      "C:\\Users\\009\\AppData\\Local\\Temp\\ipykernel_13400\\1538505867.py:3: DeprecationWarning: executable_path has been deprecated, please pass in a Service object\n",
      "  driver = webdriver.Chrome(\"chromedriver.exe\")\n"
     ]
    },
    {
     "ename": "UnexpectedAlertPresentException",
     "evalue": "Alert Text: 데이터 처리에 실패했습니다. 다시 시도해 주세요.\nMessage: unexpected alert open: {Alert text : 데이터 처리에 실패했습니다. 다시 시도해 주세요.}\n  (Session info: chrome=104.0.5112.102)\nStacktrace:\nBacktrace:\n\tOrdinal0 [0x003B6463+2188387]\n\tOrdinal0 [0x0034E461+1762401]\n\tOrdinal0 [0x00263D78+802168]\n\tOrdinal0 [0x002BCA92+1165970]\n\tOrdinal0 [0x002AC5F6+1099254]\n\tOrdinal0 [0x00286BE0+945120]\n\tOrdinal0 [0x00287AD6+948950]\n\tGetHandleVerifier [0x006571F2+2712546]\n\tGetHandleVerifier [0x0064886D+2652765]\n\tGetHandleVerifier [0x0044002A+520730]\n\tGetHandleVerifier [0x0043EE06+516086]\n\tOrdinal0 [0x0035468B+1787531]\n\tOrdinal0 [0x00358E88+1805960]\n\tOrdinal0 [0x00358F75+1806197]\n\tOrdinal0 [0x00361DF1+1842673]\n\tBaseThreadInitThunk [0x76286739+25]\n\tRtlGetFullPathName_UEx [0x773D90AF+1215]\n\tRtlGetFullPathName_UEx [0x773D907D+1165]\n",
     "output_type": "error",
     "traceback": [
      "\u001b[1;31m---------------------------------------------------------------------------\u001b[0m",
      "\u001b[1;31mUnexpectedAlertPresentException\u001b[0m           Traceback (most recent call last)",
      "Input \u001b[1;32mIn [17]\u001b[0m, in \u001b[0;36m<cell line: 10>\u001b[1;34m()\u001b[0m\n\u001b[0;32m      7\u001b[0m driver\u001b[38;5;241m.\u001b[39mimplicitly_wait(\u001b[38;5;241m3\u001b[39m)\n\u001b[0;32m      9\u001b[0m iframe \u001b[38;5;241m=\u001b[39m driver\u001b[38;5;241m.\u001b[39mfind_element(By\u001b[38;5;241m.\u001b[39mID, \u001b[38;5;124m\"\u001b[39m\u001b[38;5;124mifrmReview\u001b[39m\u001b[38;5;124m\"\u001b[39m) \u001b[38;5;66;03m# id가 mainFrame이라는 요소를 찾아내고 -> iframe임\u001b[39;00m\n\u001b[1;32m---> 10\u001b[0m \u001b[43mdriver\u001b[49m\u001b[38;5;241;43m.\u001b[39;49m\u001b[43mswitch_to\u001b[49m\u001b[38;5;241;43m.\u001b[39;49m\u001b[43mframe\u001b[49m\u001b[43m(\u001b[49m\u001b[43miframe\u001b[49m\u001b[43m)\u001b[49m \u001b[38;5;66;03m# 이 iframe이라는 요소로 focus한다.\u001b[39;00m\n\u001b[0;32m     12\u001b[0m driver\u001b[38;5;241m.\u001b[39mfind_element(By\u001b[38;5;241m.\u001b[39mXPATH, \u001b[38;5;124m\"\u001b[39m\u001b[38;5;124m/html/body/div[2]/section/div[2]/div[10]/ul[2]/li[2]/div/div[6]/section[2]/div[3]\u001b[39m\u001b[38;5;124m\"\u001b[39m)\u001b[38;5;241m.\u001b[39msend_keys(Keys\u001b[38;5;241m.\u001b[39mENTER)\n\u001b[0;32m     13\u001b[0m time\u001b[38;5;241m.\u001b[39msleep(random\u001b[38;5;241m.\u001b[39muniform(\u001b[38;5;241m0\u001b[39m,\u001b[38;5;241m2\u001b[39m))\n",
      "File \u001b[1;32m~\\anaconda3\\lib\\site-packages\\selenium\\webdriver\\remote\\switch_to.py:94\u001b[0m, in \u001b[0;36mSwitchTo.frame\u001b[1;34m(self, frame_reference)\u001b[0m\n\u001b[0;32m     91\u001b[0m         \u001b[38;5;28;01mexcept\u001b[39;00m NoSuchElementException:\n\u001b[0;32m     92\u001b[0m             \u001b[38;5;28;01mraise\u001b[39;00m NoSuchFrameException(frame_reference)\n\u001b[1;32m---> 94\u001b[0m \u001b[38;5;28;43mself\u001b[39;49m\u001b[38;5;241;43m.\u001b[39;49m\u001b[43m_driver\u001b[49m\u001b[38;5;241;43m.\u001b[39;49m\u001b[43mexecute\u001b[49m\u001b[43m(\u001b[49m\u001b[43mCommand\u001b[49m\u001b[38;5;241;43m.\u001b[39;49m\u001b[43mSWITCH_TO_FRAME\u001b[49m\u001b[43m,\u001b[49m\u001b[43m \u001b[49m\u001b[43m{\u001b[49m\u001b[38;5;124;43m'\u001b[39;49m\u001b[38;5;124;43mid\u001b[39;49m\u001b[38;5;124;43m'\u001b[39;49m\u001b[43m:\u001b[49m\u001b[43m \u001b[49m\u001b[43mframe_reference\u001b[49m\u001b[43m}\u001b[49m\u001b[43m)\u001b[49m\n",
      "File \u001b[1;32m~\\anaconda3\\lib\\site-packages\\selenium\\webdriver\\remote\\webdriver.py:435\u001b[0m, in \u001b[0;36mWebDriver.execute\u001b[1;34m(self, driver_command, params)\u001b[0m\n\u001b[0;32m    433\u001b[0m response \u001b[38;5;241m=\u001b[39m \u001b[38;5;28mself\u001b[39m\u001b[38;5;241m.\u001b[39mcommand_executor\u001b[38;5;241m.\u001b[39mexecute(driver_command, params)\n\u001b[0;32m    434\u001b[0m \u001b[38;5;28;01mif\u001b[39;00m response:\n\u001b[1;32m--> 435\u001b[0m     \u001b[38;5;28;43mself\u001b[39;49m\u001b[38;5;241;43m.\u001b[39;49m\u001b[43merror_handler\u001b[49m\u001b[38;5;241;43m.\u001b[39;49m\u001b[43mcheck_response\u001b[49m\u001b[43m(\u001b[49m\u001b[43mresponse\u001b[49m\u001b[43m)\u001b[49m\n\u001b[0;32m    436\u001b[0m     response[\u001b[38;5;124m'\u001b[39m\u001b[38;5;124mvalue\u001b[39m\u001b[38;5;124m'\u001b[39m] \u001b[38;5;241m=\u001b[39m \u001b[38;5;28mself\u001b[39m\u001b[38;5;241m.\u001b[39m_unwrap_value(\n\u001b[0;32m    437\u001b[0m         response\u001b[38;5;241m.\u001b[39mget(\u001b[38;5;124m'\u001b[39m\u001b[38;5;124mvalue\u001b[39m\u001b[38;5;124m'\u001b[39m, \u001b[38;5;28;01mNone\u001b[39;00m))\n\u001b[0;32m    438\u001b[0m     \u001b[38;5;28;01mreturn\u001b[39;00m response\n",
      "File \u001b[1;32m~\\anaconda3\\lib\\site-packages\\selenium\\webdriver\\remote\\errorhandler.py:246\u001b[0m, in \u001b[0;36mErrorHandler.check_response\u001b[1;34m(self, response)\u001b[0m\n\u001b[0;32m    244\u001b[0m     \u001b[38;5;28;01melif\u001b[39;00m \u001b[38;5;124m'\u001b[39m\u001b[38;5;124malert\u001b[39m\u001b[38;5;124m'\u001b[39m \u001b[38;5;129;01min\u001b[39;00m value:\n\u001b[0;32m    245\u001b[0m         alert_text \u001b[38;5;241m=\u001b[39m value[\u001b[38;5;124m'\u001b[39m\u001b[38;5;124malert\u001b[39m\u001b[38;5;124m'\u001b[39m]\u001b[38;5;241m.\u001b[39mget(\u001b[38;5;124m'\u001b[39m\u001b[38;5;124mtext\u001b[39m\u001b[38;5;124m'\u001b[39m)\n\u001b[1;32m--> 246\u001b[0m     \u001b[38;5;28;01mraise\u001b[39;00m exception_class(message, screen, stacktrace, alert_text)  \u001b[38;5;66;03m# type: ignore[call-arg]  # mypy is not smart enough here\u001b[39;00m\n\u001b[0;32m    247\u001b[0m \u001b[38;5;28;01mraise\u001b[39;00m exception_class(message, screen, stacktrace)\n",
      "\u001b[1;31mUnexpectedAlertPresentException\u001b[0m: Alert Text: 데이터 처리에 실패했습니다. 다시 시도해 주세요.\nMessage: unexpected alert open: {Alert text : 데이터 처리에 실패했습니다. 다시 시도해 주세요.}\n  (Session info: chrome=104.0.5112.102)\nStacktrace:\nBacktrace:\n\tOrdinal0 [0x003B6463+2188387]\n\tOrdinal0 [0x0034E461+1762401]\n\tOrdinal0 [0x00263D78+802168]\n\tOrdinal0 [0x002BCA92+1165970]\n\tOrdinal0 [0x002AC5F6+1099254]\n\tOrdinal0 [0x00286BE0+945120]\n\tOrdinal0 [0x00287AD6+948950]\n\tGetHandleVerifier [0x006571F2+2712546]\n\tGetHandleVerifier [0x0064886D+2652765]\n\tGetHandleVerifier [0x0044002A+520730]\n\tGetHandleVerifier [0x0043EE06+516086]\n\tOrdinal0 [0x0035468B+1787531]\n\tOrdinal0 [0x00358E88+1805960]\n\tOrdinal0 [0x00358F75+1806197]\n\tOrdinal0 [0x00361DF1+1842673]\n\tBaseThreadInitThunk [0x76286739+25]\n\tRtlGetFullPathName_UEx [0x773D90AF+1215]\n\tRtlGetFullPathName_UEx [0x773D907D+1165]\n"
     ]
    }
   ],
   "source": [
    "url = 'https://www.coupang.com/vp/products/6583883621?itemId=14827280861&vendorItemId=3050972695&sourceType=CAMPAIGN&campaignId=82&categoryId=0&isAddedCart='\n",
    "\n",
    "driver = webdriver.Chrome(\"chromedriver.exe\")\n",
    "driver.execute_cdp_cmd(\"Page.addScriptToEvaluateOnNewDocument\", {\"source\": \"\"\"Object.defineProperty(navigator,'webdriver',{ get : () => \n",
    "undefined } )\"\"\"})fq\n",
    "driver.get(url)\n",
    "driver.implicitly_wait(3)\n",
    "\n",
    "iframe = driver.find_element(By.ID, \"ifrmReview\") # id가 mainFrame이라는 요소를 찾아내고 -> iframe임\n",
    "driver.switch_to.frame(iframe) # 이 iframe이라는 요소로 focus한다.\n",
    "\n",
    "driver.find_element(By.XPATH, \"/html/body/div[2]/section/div[2]/div[10]/ul[2]/li[2]/div/div[6]/section[2]/div[3]\").send_keys(Keys.ENTER)\n",
    "time.sleep(random.uniform(0,2))\n",
    "\n",
    "#driver.execute_script(\"window.scrollTo(0, document.body.scrollHeight);\")\n",
    "\n",
    "#iframe = driver.find_element(By.ID, \"ifrmReview\") # id가 mainFrame이라는 요소를 찾아내고 -> iframe임\n",
    "#driver.switch_to.frame(iframe) # 이 iframe이라는 요소로 focus한다.\n",
    "\n",
    "#     # 상품평 버튼 보이게 스크롤바 내리기\n",
    "# for i in range(200, 2000, 200):\n",
    "#     driver.execute_script('window.scrollTo(0,i)')\n",
    "#     try:\n",
    "#         # 상품평 버튼 클릭\n",
    "#         review_button = driver.find_element_by_css_selector('div#btfTab ul.tab-titles > li:nth-of-type(2)')\n",
    "#         review_button.click()\n",
    "#         driver.implicitly_wait(5)\n",
    "\n",
    "#         # 최신순 보기 버튼 눌러지는지 확인\n",
    "#         new_review_button = driver.find_element_by_css_selector(iframe\n",
    "#                 'button.sdp-review__article__order__sort__newest-btn.js_reviewArticleNewListBtn.js_reviewArticleSortBtn')\n",
    "#         new_review_button.click()\n",
    "#         driver.implicitly_wait(5)\n",
    "#         break\n",
    "#     except:\n",
    "#         pass"
   ]
  },
  {
   "cell_type": "code",
   "execution_count": null,
   "id": "84849885",
   "metadata": {},
   "outputs": [],
   "source": []
  }
 ],
 "metadata": {
  "kernelspec": {
   "display_name": "Python 3 (ipykernel)",
   "language": "python",
   "name": "python3"
  },
  "language_info": {
   "codemirror_mode": {
    "name": "ipython",
    "version": 3
   },
   "file_extension": ".py",
   "mimetype": "text/x-python",
   "name": "python",
   "nbconvert_exporter": "python",
   "pygments_lexer": "ipython3",
   "version": "3.9.12"
  }
 },
 "nbformat": 4,
 "nbformat_minor": 5
}
