{
 "cells": [
  {
   "cell_type": "code",
   "execution_count": 3,
   "id": "fe4396a6",
   "metadata": {},
   "outputs": [],
   "source": [
    "from selenium import webdriver\n",
    "import time\n",
    "from selenium.webdriver.common.by import By\n",
    "import random"
   ]
  },
  {
   "cell_type": "code",
   "execution_count": 9,
   "id": "74a6cd2c",
   "metadata": {},
   "outputs": [
    {
     "name": "stderr",
     "output_type": "stream",
     "text": [
      "C:\\Users\\009\\AppData\\Local\\Temp\\ipykernel_13400\\304315138.py:1: DeprecationWarning: executable_path has been deprecated, please pass in a Service object\n",
      "  driver = webdriver.Chrome(\"chromedriver.exe\")\n"
     ]
    },
    {
     "name": "stdout",
     "output_type": "stream",
     "text": [
      "0\n",
      "10\n",
      "20\n",
      "30\n",
      "40\n",
      "50\n",
      "60\n",
      "70\n",
      "80\n",
      "90\n",
      "100\n",
      "110\n",
      "120\n",
      "130\n",
      "140\n",
      "150\n",
      "160\n",
      "170\n",
      "180\n",
      "190\n",
      "200\n",
      "210\n",
      "220\n",
      "230\n",
      "240\n",
      "250\n",
      "260\n",
      "270\n",
      "280\n",
      "290\n",
      "300\n",
      "310\n",
      "320\n",
      "330\n",
      "340\n",
      "350\n",
      "360\n",
      "370\n",
      "380\n",
      "390\n",
      "400\n",
      "410\n",
      "420\n",
      "430\n",
      "440\n",
      "450\n",
      "460\n",
      "470\n",
      "480\n",
      "490\n"
     ]
    }
   ],
   "source": [
    "driver = webdriver.Chrome(\"chromedriver.exe\")\n",
    "url = 'https://www.11st.co.kr/browsing/DealBest.tmall?method=getShockingDealBestMain'\n",
    "driver.get(url)\n",
    "# 드라이버 열릴 때까지 최대 3초 기다리기\n",
    "driver.implicitly_wait(3)\n",
    "\n",
    "# xpath가 순서대로 나와서 f string 으로 변수에 저장함\n",
    "\n",
    "product_name = []\n",
    "link = []\n",
    "\n",
    "for i in range(500):\n",
    "    # 상품 이름과 링크의 xpath\n",
    "    # for문과 f string이용\n",
    "    name_x = f'/html/body/div[2]/div[2]/div/div[2]/div[2]/ul/li[{i+1}]/div/a/div[2]/p'\n",
    "    link_x = f'/html/body/div[2]/div[2]/div/div[2]/div[2]/ul/li[{i+1}]/div/a'\n",
    "\n",
    "    temp1 = driver.find_element(By.XPATH, name_x).text\n",
    "    temp2 = driver.find_element(By.XPATH, link_x).get_attribute('href')\n",
    "    \n",
    "    product_name.append(temp1)\n",
    "    link.append(temp2)\n",
    "    \n",
    "    driver.execute_script(\"window.scrollTo(0, document.body.scrollHeight);\")\n",
    "    \n",
    "    if i % 10 == 0:\n",
    "        print(i)\n",
    "    \n",
    "    time.sleep(random.uniform(0,2))\n",
    "\n",
    "driver.quit()\n"
   ]
  },
  {
   "cell_type": "code",
   "execution_count": 10,
   "id": "0fc278fe",
   "metadata": {},
   "outputs": [
    {
     "data": {
      "text/plain": [
       "(500, 500)"
      ]
     },
     "execution_count": 10,
     "metadata": {},
     "output_type": "execute_result"
    }
   ],
   "source": [
    "len(product_name), len(link)"
   ]
  },
  {
   "cell_type": "code",
   "execution_count": 11,
   "id": "dd14b747",
   "metadata": {},
   "outputs": [
    {
     "data": {
      "text/html": [
       "<div>\n",
       "<style scoped>\n",
       "    .dataframe tbody tr th:only-of-type {\n",
       "        vertical-align: middle;\n",
       "    }\n",
       "\n",
       "    .dataframe tbody tr th {\n",
       "        vertical-align: top;\n",
       "    }\n",
       "\n",
       "    .dataframe thead th {\n",
       "        text-align: right;\n",
       "    }\n",
       "</style>\n",
       "<table border=\"1\" class=\"dataframe\">\n",
       "  <thead>\n",
       "    <tr style=\"text-align: right;\">\n",
       "      <th></th>\n",
       "      <th>상품명</th>\n",
       "      <th>링크</th>\n",
       "    </tr>\n",
       "  </thead>\n",
       "  <tbody>\n",
       "    <tr>\n",
       "      <th>0</th>\n",
       "      <td>배스킨라빈스 이달의 맛 포함 쿼터 아이스크림</td>\n",
       "      <td>https://www.11st.co.kr/products/4765317508?inp...</td>\n",
       "    </tr>\n",
       "    <tr>\n",
       "      <th>1</th>\n",
       "      <td>[수산대전 혜택가 18,700원] 더신선 태안 자연산 활꽃게 2kg 6~10미 / ...</td>\n",
       "      <td>https://www.11st.co.kr/products/3001439932?inp...</td>\n",
       "    </tr>\n",
       "    <tr>\n",
       "      <th>2</th>\n",
       "      <td>[기프티콘] 배스킨라빈스 이달의 맛 싱글레귤러 2EA</td>\n",
       "      <td>https://www.11st.co.kr/products/4765307195?inp...</td>\n",
       "    </tr>\n",
       "    <tr>\n",
       "      <th>3</th>\n",
       "      <td>KF94 KF80 아에르 에티카 새부리형 컬러마스크 대형/중형/소형/초소형</td>\n",
       "      <td>https://www.11st.co.kr/products/3059195111?inp...</td>\n",
       "    </tr>\n",
       "    <tr>\n",
       "      <th>4</th>\n",
       "      <td>[기프티콘] 이마트/트레이더스 5만원권</td>\n",
       "      <td>https://www.11st.co.kr/products/4730266200?inp...</td>\n",
       "    </tr>\n",
       "    <tr>\n",
       "      <th>...</th>\n",
       "      <td>...</td>\n",
       "      <td>...</td>\n",
       "    </tr>\n",
       "    <tr>\n",
       "      <th>495</th>\n",
       "      <td>[단독쿠폰할인]빅사이즈추가/하객룩/오피스룩/원피스/쉬폰/정장/결혼식/가을원피스/여</td>\n",
       "      <td>https://www.11st.co.kr/products/86899719?inpu=...</td>\n",
       "    </tr>\n",
       "    <tr>\n",
       "      <th>496</th>\n",
       "      <td>[쿠폰가 22,900원~]매일멸균 우유 딸기/초코/커피 200ml 48팩 외 가공유...</td>\n",
       "      <td>https://www.11st.co.kr/products/2352986820?inp...</td>\n",
       "    </tr>\n",
       "    <tr>\n",
       "      <th>497</th>\n",
       "      <td>[15%+15%]사뿐 FW 플랫/단화/메리제인/블로퍼/로퍼/여자/구두/리본</td>\n",
       "      <td>https://www.11st.co.kr/products/820185782?inpu...</td>\n",
       "    </tr>\n",
       "    <tr>\n",
       "      <th>498</th>\n",
       "      <td>이비스 스타일 앰배서더 서울 용산</td>\n",
       "      <td>https://www.11st.co.kr/products/4778179432?inp...</td>\n",
       "    </tr>\n",
       "    <tr>\n",
       "      <th>499</th>\n",
       "      <td>[제이프랑]50%+추가20%/간절기신상추가~100종!반팔티/셋트 외</td>\n",
       "      <td>https://www.11st.co.kr/products/3826891563?inp...</td>\n",
       "    </tr>\n",
       "  </tbody>\n",
       "</table>\n",
       "<p>500 rows × 2 columns</p>\n",
       "</div>"
      ],
      "text/plain": [
       "                                                   상품명  \\\n",
       "0                             배스킨라빈스 이달의 맛 포함 쿼터 아이스크림   \n",
       "1    [수산대전 혜택가 18,700원] 더신선 태안 자연산 활꽃게 2kg 6~10미 / ...   \n",
       "2                        [기프티콘] 배스킨라빈스 이달의 맛 싱글레귤러 2EA   \n",
       "3            KF94 KF80 아에르 에티카 새부리형 컬러마스크 대형/중형/소형/초소형   \n",
       "4                                [기프티콘] 이마트/트레이더스 5만원권   \n",
       "..                                                 ...   \n",
       "495      [단독쿠폰할인]빅사이즈추가/하객룩/오피스룩/원피스/쉬폰/정장/결혼식/가을원피스/여   \n",
       "496  [쿠폰가 22,900원~]매일멸균 우유 딸기/초코/커피 200ml 48팩 외 가공유...   \n",
       "497          [15%+15%]사뿐 FW 플랫/단화/메리제인/블로퍼/로퍼/여자/구두/리본   \n",
       "498                                 이비스 스타일 앰배서더 서울 용산   \n",
       "499              [제이프랑]50%+추가20%/간절기신상추가~100종!반팔티/셋트 외   \n",
       "\n",
       "                                                    링크  \n",
       "0    https://www.11st.co.kr/products/4765317508?inp...  \n",
       "1    https://www.11st.co.kr/products/3001439932?inp...  \n",
       "2    https://www.11st.co.kr/products/4765307195?inp...  \n",
       "3    https://www.11st.co.kr/products/3059195111?inp...  \n",
       "4    https://www.11st.co.kr/products/4730266200?inp...  \n",
       "..                                                 ...  \n",
       "495  https://www.11st.co.kr/products/86899719?inpu=...  \n",
       "496  https://www.11st.co.kr/products/2352986820?inp...  \n",
       "497  https://www.11st.co.kr/products/820185782?inpu...  \n",
       "498  https://www.11st.co.kr/products/4778179432?inp...  \n",
       "499  https://www.11st.co.kr/products/3826891563?inp...  \n",
       "\n",
       "[500 rows x 2 columns]"
      ]
     },
     "execution_count": 11,
     "metadata": {},
     "output_type": "execute_result"
    }
   ],
   "source": [
    "import pandas as pd\n",
    "\n",
    "# 동일한 길이의 리스트를 dataframe으로 추가하기\n",
    "df = pd.DataFrame([ x for x in zip(product_name, link)],columns = ['상품명','링크'])\n",
    "df\n",
    "\n"
   ]
  },
  {
   "cell_type": "code",
   "execution_count": 12,
   "id": "b44c991e",
   "metadata": {},
   "outputs": [],
   "source": [
    "df.to_csv(\"Shock_Best.csv\", encoding = \"utf-8-sig\")"
   ]
  },
  {
   "cell_type": "code",
   "execution_count": null,
   "id": "c4f6d4ae",
   "metadata": {},
   "outputs": [],
   "source": []
  }
 ],
 "metadata": {
  "kernelspec": {
   "display_name": "Python 3 (ipykernel)",
   "language": "python",
   "name": "python3"
  },
  "language_info": {
   "codemirror_mode": {
    "name": "ipython",
    "version": 3
   },
   "file_extension": ".py",
   "mimetype": "text/x-python",
   "name": "python",
   "nbconvert_exporter": "python",
   "pygments_lexer": "ipython3",
   "version": "3.9.12"
  }
 },
 "nbformat": 4,
 "nbformat_minor": 5
}
