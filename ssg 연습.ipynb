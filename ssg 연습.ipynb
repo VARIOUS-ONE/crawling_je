{
 "cells": [
  {
   "cell_type": "code",
   "execution_count": 1,
   "id": "dad22cba",
   "metadata": {},
   "outputs": [],
   "source": [
    "from selenium import webdriver\n",
    "import time\n",
    "from selenium.webdriver.common.by import By\n",
    "from selenium.webdriver.common.keys import Keys\n",
    "import random"
   ]
  },
  {
   "cell_type": "code",
   "execution_count": 62,
   "id": "b840ccf1",
   "metadata": {},
   "outputs": [
    {
     "name": "stderr",
     "output_type": "stream",
     "text": [
      "C:\\Users\\009\\AppData\\Local\\Temp\\ipykernel_23524\\3312771436.py:3: DeprecationWarning: executable_path has been deprecated, please pass in a Service object\n",
      "  driver = webdriver.Chrome(\"chromedriver.exe\")\n"
     ]
    },
    {
     "name": "stdout",
     "output_type": "stream",
     "text": [
      "0 번 다음\n"
     ]
    },
    {
     "ename": "StaleElementReferenceException",
     "evalue": "Message: stale element reference: element is not attached to the page document\n  (Session info: chrome=104.0.5112.102)\nStacktrace:\nBacktrace:\n\tOrdinal0 [0x004B6463+2188387]\n\tOrdinal0 [0x0044E461+1762401]\n\tOrdinal0 [0x00363D78+802168]\n\tOrdinal0 [0x00366754+812884]\n\tOrdinal0 [0x00366612+812562]\n\tOrdinal0 [0x003668A0+813216]\n\tOrdinal0 [0x0038D35F+971615]\n\tOrdinal0 [0x003AC7DC+1099740]\n\tOrdinal0 [0x00387FF4+950260]\n\tOrdinal0 [0x003AC9F4+1100276]\n\tOrdinal0 [0x003BCC22+1166370]\n\tOrdinal0 [0x003AC5F6+1099254]\n\tOrdinal0 [0x00386BE0+945120]\n\tOrdinal0 [0x00387AD6+948950]\n\tGetHandleVerifier [0x007571F2+2712546]\n\tGetHandleVerifier [0x0074886D+2652765]\n\tGetHandleVerifier [0x0054002A+520730]\n\tGetHandleVerifier [0x0053EE06+516086]\n\tOrdinal0 [0x0045468B+1787531]\n\tOrdinal0 [0x00458E88+1805960]\n\tOrdinal0 [0x00458F75+1806197]\n\tOrdinal0 [0x00461DF1+1842673]\n\tBaseThreadInitThunk [0x76286739+25]\n\tRtlGetFullPathName_UEx [0x773D90AF+1215]\n\tRtlGetFullPathName_UEx [0x773D907D+1165]\n",
     "output_type": "error",
     "traceback": [
      "\u001b[1;31m---------------------------------------------------------------------------\u001b[0m",
      "\u001b[1;31mStaleElementReferenceException\u001b[0m            Traceback (most recent call last)",
      "Input \u001b[1;32mIn [62]\u001b[0m, in \u001b[0;36m<cell line: 23>\u001b[1;34m()\u001b[0m\n\u001b[0;32m     40\u001b[0m star_x \u001b[38;5;241m=\u001b[39m \u001b[38;5;124mf\u001b[39m\u001b[38;5;124m'\u001b[39m\u001b[38;5;124m/html/body/div[4]/div[4]/div[2]/div/div/div[2]/div[6]/div[1]/div/div[2]/div[2]/div[2]/div[3]/div[2]/table/tbody/tr[\u001b[39m\u001b[38;5;132;01m{\u001b[39;00mi\u001b[38;5;241m*\u001b[39m\u001b[38;5;241m2\u001b[39m\u001b[38;5;241m+\u001b[39m\u001b[38;5;241m1\u001b[39m\u001b[38;5;132;01m}\u001b[39;00m\u001b[38;5;124m]/td[1]/div/span/span/span/em\u001b[39m\u001b[38;5;124m'\u001b[39m    \n\u001b[0;32m     42\u001b[0m temp1 \u001b[38;5;241m=\u001b[39m driver\u001b[38;5;241m.\u001b[39mfind_element(By\u001b[38;5;241m.\u001b[39mXPATH, review_x)\u001b[38;5;241m.\u001b[39mtext\n\u001b[1;32m---> 43\u001b[0m temp2 \u001b[38;5;241m=\u001b[39m \u001b[43mdriver\u001b[49m\u001b[38;5;241;43m.\u001b[39;49m\u001b[43mfind_element\u001b[49m\u001b[43m(\u001b[49m\u001b[43mBy\u001b[49m\u001b[38;5;241;43m.\u001b[39;49m\u001b[43mXPATH\u001b[49m\u001b[43m,\u001b[49m\u001b[43m \u001b[49m\u001b[43mstar_x\u001b[49m\u001b[43m)\u001b[49m\u001b[38;5;241;43m.\u001b[39;49m\u001b[43mtext\u001b[49m\n\u001b[0;32m     45\u001b[0m rev\u001b[38;5;241m.\u001b[39mappend(temp1)\n\u001b[0;32m     46\u001b[0m star\u001b[38;5;241m.\u001b[39mappend(temp2)\n",
      "File \u001b[1;32m~\\anaconda3\\lib\\site-packages\\selenium\\webdriver\\remote\\webelement.py:84\u001b[0m, in \u001b[0;36mWebElement.text\u001b[1;34m(self)\u001b[0m\n\u001b[0;32m     81\u001b[0m \u001b[38;5;129m@property\u001b[39m\n\u001b[0;32m     82\u001b[0m \u001b[38;5;28;01mdef\u001b[39;00m \u001b[38;5;21mtext\u001b[39m(\u001b[38;5;28mself\u001b[39m) \u001b[38;5;241m-\u001b[39m\u001b[38;5;241m>\u001b[39m \u001b[38;5;28mstr\u001b[39m:\n\u001b[0;32m     83\u001b[0m     \u001b[38;5;124;03m\"\"\"The text of the element.\"\"\"\u001b[39;00m\n\u001b[1;32m---> 84\u001b[0m     \u001b[38;5;28;01mreturn\u001b[39;00m \u001b[38;5;28;43mself\u001b[39;49m\u001b[38;5;241;43m.\u001b[39;49m\u001b[43m_execute\u001b[49m\u001b[43m(\u001b[49m\u001b[43mCommand\u001b[49m\u001b[38;5;241;43m.\u001b[39;49m\u001b[43mGET_ELEMENT_TEXT\u001b[49m\u001b[43m)\u001b[49m[\u001b[38;5;124m'\u001b[39m\u001b[38;5;124mvalue\u001b[39m\u001b[38;5;124m'\u001b[39m]\n",
      "File \u001b[1;32m~\\anaconda3\\lib\\site-packages\\selenium\\webdriver\\remote\\webelement.py:396\u001b[0m, in \u001b[0;36mWebElement._execute\u001b[1;34m(self, command, params)\u001b[0m\n\u001b[0;32m    394\u001b[0m     params \u001b[38;5;241m=\u001b[39m {}\n\u001b[0;32m    395\u001b[0m params[\u001b[38;5;124m'\u001b[39m\u001b[38;5;124mid\u001b[39m\u001b[38;5;124m'\u001b[39m] \u001b[38;5;241m=\u001b[39m \u001b[38;5;28mself\u001b[39m\u001b[38;5;241m.\u001b[39m_id\n\u001b[1;32m--> 396\u001b[0m \u001b[38;5;28;01mreturn\u001b[39;00m \u001b[38;5;28;43mself\u001b[39;49m\u001b[38;5;241;43m.\u001b[39;49m\u001b[43m_parent\u001b[49m\u001b[38;5;241;43m.\u001b[39;49m\u001b[43mexecute\u001b[49m\u001b[43m(\u001b[49m\u001b[43mcommand\u001b[49m\u001b[43m,\u001b[49m\u001b[43m \u001b[49m\u001b[43mparams\u001b[49m\u001b[43m)\u001b[49m\n",
      "File \u001b[1;32m~\\anaconda3\\lib\\site-packages\\selenium\\webdriver\\remote\\webdriver.py:435\u001b[0m, in \u001b[0;36mWebDriver.execute\u001b[1;34m(self, driver_command, params)\u001b[0m\n\u001b[0;32m    433\u001b[0m response \u001b[38;5;241m=\u001b[39m \u001b[38;5;28mself\u001b[39m\u001b[38;5;241m.\u001b[39mcommand_executor\u001b[38;5;241m.\u001b[39mexecute(driver_command, params)\n\u001b[0;32m    434\u001b[0m \u001b[38;5;28;01mif\u001b[39;00m response:\n\u001b[1;32m--> 435\u001b[0m     \u001b[38;5;28;43mself\u001b[39;49m\u001b[38;5;241;43m.\u001b[39;49m\u001b[43merror_handler\u001b[49m\u001b[38;5;241;43m.\u001b[39;49m\u001b[43mcheck_response\u001b[49m\u001b[43m(\u001b[49m\u001b[43mresponse\u001b[49m\u001b[43m)\u001b[49m\n\u001b[0;32m    436\u001b[0m     response[\u001b[38;5;124m'\u001b[39m\u001b[38;5;124mvalue\u001b[39m\u001b[38;5;124m'\u001b[39m] \u001b[38;5;241m=\u001b[39m \u001b[38;5;28mself\u001b[39m\u001b[38;5;241m.\u001b[39m_unwrap_value(\n\u001b[0;32m    437\u001b[0m         response\u001b[38;5;241m.\u001b[39mget(\u001b[38;5;124m'\u001b[39m\u001b[38;5;124mvalue\u001b[39m\u001b[38;5;124m'\u001b[39m, \u001b[38;5;28;01mNone\u001b[39;00m))\n\u001b[0;32m    438\u001b[0m     \u001b[38;5;28;01mreturn\u001b[39;00m response\n",
      "File \u001b[1;32m~\\anaconda3\\lib\\site-packages\\selenium\\webdriver\\remote\\errorhandler.py:247\u001b[0m, in \u001b[0;36mErrorHandler.check_response\u001b[1;34m(self, response)\u001b[0m\n\u001b[0;32m    245\u001b[0m         alert_text \u001b[38;5;241m=\u001b[39m value[\u001b[38;5;124m'\u001b[39m\u001b[38;5;124malert\u001b[39m\u001b[38;5;124m'\u001b[39m]\u001b[38;5;241m.\u001b[39mget(\u001b[38;5;124m'\u001b[39m\u001b[38;5;124mtext\u001b[39m\u001b[38;5;124m'\u001b[39m)\n\u001b[0;32m    246\u001b[0m     \u001b[38;5;28;01mraise\u001b[39;00m exception_class(message, screen, stacktrace, alert_text)  \u001b[38;5;66;03m# type: ignore[call-arg]  # mypy is not smart enough here\u001b[39;00m\n\u001b[1;32m--> 247\u001b[0m \u001b[38;5;28;01mraise\u001b[39;00m exception_class(message, screen, stacktrace)\n",
      "\u001b[1;31mStaleElementReferenceException\u001b[0m: Message: stale element reference: element is not attached to the page document\n  (Session info: chrome=104.0.5112.102)\nStacktrace:\nBacktrace:\n\tOrdinal0 [0x004B6463+2188387]\n\tOrdinal0 [0x0044E461+1762401]\n\tOrdinal0 [0x00363D78+802168]\n\tOrdinal0 [0x00366754+812884]\n\tOrdinal0 [0x00366612+812562]\n\tOrdinal0 [0x003668A0+813216]\n\tOrdinal0 [0x0038D35F+971615]\n\tOrdinal0 [0x003AC7DC+1099740]\n\tOrdinal0 [0x00387FF4+950260]\n\tOrdinal0 [0x003AC9F4+1100276]\n\tOrdinal0 [0x003BCC22+1166370]\n\tOrdinal0 [0x003AC5F6+1099254]\n\tOrdinal0 [0x00386BE0+945120]\n\tOrdinal0 [0x00387AD6+948950]\n\tGetHandleVerifier [0x007571F2+2712546]\n\tGetHandleVerifier [0x0074886D+2652765]\n\tGetHandleVerifier [0x0054002A+520730]\n\tGetHandleVerifier [0x0053EE06+516086]\n\tOrdinal0 [0x0045468B+1787531]\n\tOrdinal0 [0x00458E88+1805960]\n\tOrdinal0 [0x00458F75+1806197]\n\tOrdinal0 [0x00461DF1+1842673]\n\tBaseThreadInitThunk [0x76286739+25]\n\tRtlGetFullPathName_UEx [0x773D90AF+1215]\n\tRtlGetFullPathName_UEx [0x773D907D+1165]\n"
     ]
    }
   ],
   "source": [
    "url = 'https://emart.ssg.com/item/itemView.ssg?itemId=0000008537421&siteNo=6001&salestrNo=2034'\n",
    "    \n",
    "driver = webdriver.Chrome(\"chromedriver.exe\")\n",
    "driver.get(url)\n",
    "driver.implicitly_wait(3)\n",
    "    \n",
    "\n",
    "#리뷰탭 이동\n",
    "driver.find_element(By.XPATH, \"/html/body/div[4]/div[4]/div[2]/div/div/div[2]/div[6]/div[1]/div/div[1]/ul/li[2]/a\").send_keys(Keys.ENTER)\n",
    "time.sleep(random.uniform(0,2))\n",
    "\n",
    "#평점낮은순으로 선택\n",
    "driver.find_element(By.XPATH, \"/html/body/div[4]/div[4]/div[2]/div/div/div[2]/div[6]/div[1]/div/div[2]/div[2]/div[2]/div[3]/div[1]/div[2]/div/div/a\").click()\n",
    "time.sleep(random.uniform(0,2))\n",
    "driver.find_element(By.XPATH, \"/html/body/div[4]/div[4]/div[2]/div/div/div[2]/div[6]/div[1]/div/div[2]/div[2]/div[2]/div[3]/div[1]/div[2]/div/div/div/ul/li[4]\").click()\n",
    "time.sleep(random.uniform(0,2))\n",
    "\n",
    "rev = []\n",
    "star = [] \n",
    "\n",
    "\n",
    "#페이지 선택    \n",
    "for j in range(10):\n",
    "    print(j,'번 다음')\n",
    "    for p in range(10):\n",
    "        if p == 0 :\n",
    "            page_x = '/html/body/div[4]/div[4]/div[2]/div/div/div[2]/div[6]/div[1]/div/div[2]/div[2]/div[2]/div[3]/div[3]/strong'\n",
    "        else :\n",
    "            page_x = f'/html/body/div[4]/div[4]/div[2]/div/div/div[2]/div[6]/div[1]/div/div[2]/div[2]/div[2]/div[3]/div[3]/a[{p}]'\n",
    "\n",
    "        time.sleep(random.uniform(0,2))\n",
    "    # 리뷰 긁기\n",
    "        try :\n",
    "            driver.find_element(By.XPATH, page_x).click()\n",
    "        except:\n",
    "            continue\n",
    "\n",
    "        for i in range(10):\n",
    "            review_x = f'/html/body/div[4]/div[4]/div[2]/div/div/div[2]/div[6]/div[1]/div/div[2]/div[2]/div[2]/div[3]/div[2]/table/tbody/tr[{i*2+1}]/td[3]/div/a/div/span'\n",
    "            star_x = f'/html/body/div[4]/div[4]/div[2]/div/div/div[2]/div[6]/div[1]/div/div[2]/div[2]/div[2]/div[3]/div[2]/table/tbody/tr[{i*2+1}]/td[1]/div/span/span/span/em'    \n",
    "            \n",
    "            temp1 = driver.find_element(By.XPATH, review_x).text\n",
    "            temp2 = driver.find_element(By.XPATH, star_x).text\n",
    "    \n",
    "            rev.append(temp1)\n",
    "            star.append(temp2)\n",
    "            \n",
    "    try:                \n",
    "        driver.find_element(By.XPATH, \"/html/body/div[4]/div[4]/div[2]/div/div/div[2]/div[6]/div[1]/div/div[2]/div[2]/div[2]/div[3]/div[3]/a[10]\").click()\n",
    "        time.sleep(random.uniform(0,2))\n",
    "    except :\n",
    "        break\n",
    "\n",
    "driver.quit()\n",
    "data = pd.DataFrame([ x for x in zip(star,rev)],columns = ['평점','리뷰'])\n",
    "data\n",
    "\n",
    "#     if p = 0:\n",
    "#         page_x = f'/html/body/div[4]/div[4]/div[2]/div/div/div[2]/div[6]/div[1]/div/div[2]/div[2]/div[2]/div[3]/div[3]/strong'"
   ]
  },
  {
   "cell_type": "code",
   "execution_count": 55,
   "id": "d4497bdd",
   "metadata": {},
   "outputs": [
    {
     "data": {
      "text/plain": [
       "[]"
      ]
     },
     "execution_count": 55,
     "metadata": {},
     "output_type": "execute_result"
    }
   ],
   "source": [
    "rev"
   ]
  },
  {
   "cell_type": "code",
   "execution_count": 61,
   "id": "9575f8b5",
   "metadata": {},
   "outputs": [
    {
     "name": "stderr",
     "output_type": "stream",
     "text": [
      "C:\\Users\\009\\AppData\\Local\\Temp\\ipykernel_23524\\1578830405.py:3: DeprecationWarning: executable_path has been deprecated, please pass in a Service object\n",
      "  driver = webdriver.Chrome(\"chromedriver.exe\")\n"
     ]
    },
    {
     "ename": "WebDriverException",
     "evalue": "Message: unknown error: cannot determine loading status\nfrom unknown error: unexpected command response\n  (Session info: chrome=104.0.5112.102)\nStacktrace:\nBacktrace:\n\tOrdinal0 [0x004B6463+2188387]\n\tOrdinal0 [0x0044E461+1762401]\n\tOrdinal0 [0x00363D78+802168]\n\tOrdinal0 [0x00357210+750096]\n\tOrdinal0 [0x0035675A+747354]\n\tOrdinal0 [0x00355D3F+744767]\n\tOrdinal0 [0x00354C28+740392]\n\tOrdinal0 [0x00355228+741928]\n\tOrdinal0 [0x0035EF2F+782127]\n\tOrdinal0 [0x00369FBB+827323]\n\tOrdinal0 [0x0036D310+840464]\n\tOrdinal0 [0x003554F6+742646]\n\tOrdinal0 [0x00369BF3+826355]\n\tOrdinal0 [0x003BCF6D+1167213]\n\tOrdinal0 [0x003AC5F6+1099254]\n\tOrdinal0 [0x00386BE0+945120]\n\tOrdinal0 [0x00387AD6+948950]\n\tGetHandleVerifier [0x007571F2+2712546]\n\tGetHandleVerifier [0x0074886D+2652765]\n\tGetHandleVerifier [0x0054002A+520730]\n\tGetHandleVerifier [0x0053EE06+516086]\n\tOrdinal0 [0x0045468B+1787531]\n\tOrdinal0 [0x00458E88+1805960]\n\tOrdinal0 [0x00458F75+1806197]\n\tOrdinal0 [0x00461DF1+1842673]\n\tBaseThreadInitThunk [0x76286739+25]\n\tRtlGetFullPathName_UEx [0x773D90AF+1215]\n\tRtlGetFullPathName_UEx [0x773D907D+1165]\n",
     "output_type": "error",
     "traceback": [
      "\u001b[1;31m---------------------------------------------------------------------------\u001b[0m",
      "\u001b[1;31mWebDriverException\u001b[0m                        Traceback (most recent call last)",
      "Input \u001b[1;32mIn [61]\u001b[0m, in \u001b[0;36m<cell line: 4>\u001b[1;34m()\u001b[0m\n\u001b[0;32m      1\u001b[0m url \u001b[38;5;241m=\u001b[39m \u001b[38;5;124m'\u001b[39m\u001b[38;5;124mhttps://emart.ssg.com/item/itemView.ssg?itemId=0000008537421&siteNo=6001&salestrNo=2034\u001b[39m\u001b[38;5;124m'\u001b[39m\n\u001b[0;32m      3\u001b[0m driver \u001b[38;5;241m=\u001b[39m webdriver\u001b[38;5;241m.\u001b[39mChrome(\u001b[38;5;124m\"\u001b[39m\u001b[38;5;124mchromedriver.exe\u001b[39m\u001b[38;5;124m\"\u001b[39m)\n\u001b[1;32m----> 4\u001b[0m \u001b[43mdriver\u001b[49m\u001b[38;5;241;43m.\u001b[39;49m\u001b[43mget\u001b[49m\u001b[43m(\u001b[49m\u001b[43murl\u001b[49m\u001b[43m)\u001b[49m\n\u001b[0;32m      5\u001b[0m driver\u001b[38;5;241m.\u001b[39mimplicitly_wait(\u001b[38;5;241m3\u001b[39m)\n\u001b[0;32m      8\u001b[0m \u001b[38;5;66;03m#리뷰탭 이동\u001b[39;00m\n",
      "File \u001b[1;32m~\\anaconda3\\lib\\site-packages\\selenium\\webdriver\\remote\\webdriver.py:447\u001b[0m, in \u001b[0;36mWebDriver.get\u001b[1;34m(self, url)\u001b[0m\n\u001b[0;32m    443\u001b[0m \u001b[38;5;28;01mdef\u001b[39;00m \u001b[38;5;21mget\u001b[39m(\u001b[38;5;28mself\u001b[39m, url: \u001b[38;5;28mstr\u001b[39m) \u001b[38;5;241m-\u001b[39m\u001b[38;5;241m>\u001b[39m \u001b[38;5;28;01mNone\u001b[39;00m:\n\u001b[0;32m    444\u001b[0m     \u001b[38;5;124;03m\"\"\"\u001b[39;00m\n\u001b[0;32m    445\u001b[0m \u001b[38;5;124;03m    Loads a web page in the current browser session.\u001b[39;00m\n\u001b[0;32m    446\u001b[0m \u001b[38;5;124;03m    \"\"\"\u001b[39;00m\n\u001b[1;32m--> 447\u001b[0m     \u001b[38;5;28;43mself\u001b[39;49m\u001b[38;5;241;43m.\u001b[39;49m\u001b[43mexecute\u001b[49m\u001b[43m(\u001b[49m\u001b[43mCommand\u001b[49m\u001b[38;5;241;43m.\u001b[39;49m\u001b[43mGET\u001b[49m\u001b[43m,\u001b[49m\u001b[43m \u001b[49m\u001b[43m{\u001b[49m\u001b[38;5;124;43m'\u001b[39;49m\u001b[38;5;124;43murl\u001b[39;49m\u001b[38;5;124;43m'\u001b[39;49m\u001b[43m:\u001b[49m\u001b[43m \u001b[49m\u001b[43murl\u001b[49m\u001b[43m}\u001b[49m\u001b[43m)\u001b[49m\n",
      "File \u001b[1;32m~\\anaconda3\\lib\\site-packages\\selenium\\webdriver\\remote\\webdriver.py:435\u001b[0m, in \u001b[0;36mWebDriver.execute\u001b[1;34m(self, driver_command, params)\u001b[0m\n\u001b[0;32m    433\u001b[0m response \u001b[38;5;241m=\u001b[39m \u001b[38;5;28mself\u001b[39m\u001b[38;5;241m.\u001b[39mcommand_executor\u001b[38;5;241m.\u001b[39mexecute(driver_command, params)\n\u001b[0;32m    434\u001b[0m \u001b[38;5;28;01mif\u001b[39;00m response:\n\u001b[1;32m--> 435\u001b[0m     \u001b[38;5;28;43mself\u001b[39;49m\u001b[38;5;241;43m.\u001b[39;49m\u001b[43merror_handler\u001b[49m\u001b[38;5;241;43m.\u001b[39;49m\u001b[43mcheck_response\u001b[49m\u001b[43m(\u001b[49m\u001b[43mresponse\u001b[49m\u001b[43m)\u001b[49m\n\u001b[0;32m    436\u001b[0m     response[\u001b[38;5;124m'\u001b[39m\u001b[38;5;124mvalue\u001b[39m\u001b[38;5;124m'\u001b[39m] \u001b[38;5;241m=\u001b[39m \u001b[38;5;28mself\u001b[39m\u001b[38;5;241m.\u001b[39m_unwrap_value(\n\u001b[0;32m    437\u001b[0m         response\u001b[38;5;241m.\u001b[39mget(\u001b[38;5;124m'\u001b[39m\u001b[38;5;124mvalue\u001b[39m\u001b[38;5;124m'\u001b[39m, \u001b[38;5;28;01mNone\u001b[39;00m))\n\u001b[0;32m    438\u001b[0m     \u001b[38;5;28;01mreturn\u001b[39;00m response\n",
      "File \u001b[1;32m~\\anaconda3\\lib\\site-packages\\selenium\\webdriver\\remote\\errorhandler.py:247\u001b[0m, in \u001b[0;36mErrorHandler.check_response\u001b[1;34m(self, response)\u001b[0m\n\u001b[0;32m    245\u001b[0m         alert_text \u001b[38;5;241m=\u001b[39m value[\u001b[38;5;124m'\u001b[39m\u001b[38;5;124malert\u001b[39m\u001b[38;5;124m'\u001b[39m]\u001b[38;5;241m.\u001b[39mget(\u001b[38;5;124m'\u001b[39m\u001b[38;5;124mtext\u001b[39m\u001b[38;5;124m'\u001b[39m)\n\u001b[0;32m    246\u001b[0m     \u001b[38;5;28;01mraise\u001b[39;00m exception_class(message, screen, stacktrace, alert_text)  \u001b[38;5;66;03m# type: ignore[call-arg]  # mypy is not smart enough here\u001b[39;00m\n\u001b[1;32m--> 247\u001b[0m \u001b[38;5;28;01mraise\u001b[39;00m exception_class(message, screen, stacktrace)\n",
      "\u001b[1;31mWebDriverException\u001b[0m: Message: unknown error: cannot determine loading status\nfrom unknown error: unexpected command response\n  (Session info: chrome=104.0.5112.102)\nStacktrace:\nBacktrace:\n\tOrdinal0 [0x004B6463+2188387]\n\tOrdinal0 [0x0044E461+1762401]\n\tOrdinal0 [0x00363D78+802168]\n\tOrdinal0 [0x00357210+750096]\n\tOrdinal0 [0x0035675A+747354]\n\tOrdinal0 [0x00355D3F+744767]\n\tOrdinal0 [0x00354C28+740392]\n\tOrdinal0 [0x00355228+741928]\n\tOrdinal0 [0x0035EF2F+782127]\n\tOrdinal0 [0x00369FBB+827323]\n\tOrdinal0 [0x0036D310+840464]\n\tOrdinal0 [0x003554F6+742646]\n\tOrdinal0 [0x00369BF3+826355]\n\tOrdinal0 [0x003BCF6D+1167213]\n\tOrdinal0 [0x003AC5F6+1099254]\n\tOrdinal0 [0x00386BE0+945120]\n\tOrdinal0 [0x00387AD6+948950]\n\tGetHandleVerifier [0x007571F2+2712546]\n\tGetHandleVerifier [0x0074886D+2652765]\n\tGetHandleVerifier [0x0054002A+520730]\n\tGetHandleVerifier [0x0053EE06+516086]\n\tOrdinal0 [0x0045468B+1787531]\n\tOrdinal0 [0x00458E88+1805960]\n\tOrdinal0 [0x00458F75+1806197]\n\tOrdinal0 [0x00461DF1+1842673]\n\tBaseThreadInitThunk [0x76286739+25]\n\tRtlGetFullPathName_UEx [0x773D90AF+1215]\n\tRtlGetFullPathName_UEx [0x773D907D+1165]\n"
     ]
    }
   ],
   "source": [
    "url = 'https://emart.ssg.com/item/itemView.ssg?itemId=0000008537421&siteNo=6001&salestrNo=2034'\n",
    "    \n",
    "driver = webdriver.Chrome(\"chromedriver.exe\")\n",
    "driver.get(url)\n",
    "driver.implicitly_wait(3)\n",
    "    \n",
    "\n",
    "#리뷰탭 이동\n",
    "driver.find_element(By.XPATH, \"/html/body/div[4]/div[4]/div[2]/div/div/div[2]/div[6]/div[1]/div/div[1]/ul/li[2]/a\").send_keys(Keys.ENTER)\n",
    "time.sleep(random.uniform(0,2))\n",
    "\n",
    "#평점낮은순으로 선택\n",
    "driver.find_element(By.XPATH, \"/html/body/div[4]/div[4]/div[2]/div/div/div[2]/div[6]/div[1]/div/div[2]/div[2]/div[2]/div[3]/div[1]/div[2]/div/div/a\").click()\n",
    "time.sleep(random.uniform(0,2))\n",
    "driver.find_element(By.XPATH, \"/html/body/div[4]/div[4]/div[2]/div/div/div[2]/div[6]/div[1]/div/div[2]/div[2]/div[2]/div[3]/div[1]/div[2]/div/div/div/ul/li[4]\").click()\n",
    "time.sleep(random.uniform(0,2))\n",
    "\n",
    "rev = []\n",
    "star = [] \n",
    "\n",
    "for i in range(10):\n",
    "        review_x = f'/html/body/div[4]/div[4]/div[2]/div/div/div[2]/div[6]/div[1]/div/div[2]/div[2]/div[2]/div[3]/div[2]/table/tbody/tr[{i*2+1}]/td[3]/div/a/div/span'\n",
    "        star_x = f'/html/body/div[4]/div[4]/div[2]/div/div/div[2]/div[6]/div[1]/div/div[2]/div[2]/div[2]/div[3]/div[2]/table/tbody/tr[{i*2+1}]/td[1]/div/span/span/span/em'    \n",
    "            \n",
    "        temp1 = driver.find_element(By.XPATH, review_x).text\n",
    "        temp2 = driver.find_element(By.XPATH, star_x).text\n",
    "    \n",
    "        rev.append(temp1)\n",
    "        star.append(temp2)\n",
    "\n",
    "\n",
    "driver.quit()\n",
    "data = pd.DataFrame([ x for x in zip(star,rev)],columns = ['평점','리뷰'])\n",
    "data\n",
    "\n",
    "#     if p = 0:\n",
    "#         page_x = f'/html/body/div[4]/div[4]/div[2]/div/div/div[2]/div[6]/div[1]/div/div[2]/div[2]/div[2]/div[3]/div[3]/strong'"
   ]
  },
  {
   "cell_type": "code",
   "execution_count": null,
   "id": "923953f8",
   "metadata": {},
   "outputs": [],
   "source": []
  },
  {
   "cell_type": "code",
   "execution_count": null,
   "id": "22b0ee06",
   "metadata": {},
   "outputs": [],
   "source": []
  }
 ],
 "metadata": {
  "kernelspec": {
   "display_name": "Python 3 (ipykernel)",
   "language": "python",
   "name": "python3"
  },
  "language_info": {
   "codemirror_mode": {
    "name": "ipython",
    "version": 3
   },
   "file_extension": ".py",
   "mimetype": "text/x-python",
   "name": "python",
   "nbconvert_exporter": "python",
   "pygments_lexer": "ipython3",
   "version": "3.9.12"
  }
 },
 "nbformat": 4,
 "nbformat_minor": 5
}
